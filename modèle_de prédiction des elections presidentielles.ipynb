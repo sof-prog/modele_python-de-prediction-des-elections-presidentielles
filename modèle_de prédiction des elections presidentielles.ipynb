{
  "cells": [
    {
      "cell_type": "code",
      "execution_count": 24,
      "metadata": {
        "colab": {
          "base_uri": "https://localhost:8080/"
        },
        "id": "16hM99XPEtDo",
        "outputId": "8c115361-613c-4bff-d2ba-2e2df0970c7d"
      },
      "outputs": [
        {
          "output_type": "stream",
          "name": "stdout",
          "text": [
            "Drive already mounted at /content/drive; to attempt to forcibly remount, call drive.mount(\"/content/drive\", force_remount=True).\n"
          ]
        }
      ],
      "source": [
        "from google.colab import drive\n",
        "drive.mount('/content/drive')\n"
      ]
    },
    {
      "cell_type": "code",
      "execution_count": 25,
      "metadata": {
        "id": "S8ebg5o5IFUW"
      },
      "outputs": [],
      "source": [
        "import pandas as pd\n",
        "\n",
        "# Chemins vers les fichiers sur Google Drive\n",
        "base_path = '/content/drive/MyDrive/Donnees/'\n",
        "\n",
        "def load_data(file_name):\n",
        "    return pd.read_csv(base_path + file_name)\n",
        "\n",
        "# Chargement des données\n",
        "election = load_data(\"Election_Securite.csv\")\n",
        "emploi = load_data(\"Emploi.csv\")\n",
        "education = load_data(\"Education.csv\")\n",
        "sante = load_data(\"Sante.csv\")\n",
        "pouvoir_achat = load_data(\"Pouvoir_Achat.csv\")\n",
        "\n",
        "# Préparation des données d'élection\n",
        "election = election.loc[:, ['% Abs/Ins', 'Votants', '% Vot/Ins', 'Blancs', '% Blancs/Ins', '% Blancs/Vot',\n",
        "                            'Nuls', '% Nuls/Ins', '% Nuls/Vot', 'Exprimés', '% Exp/Ins', '% Exp/Vot', \"Nom\", \"code\"]]\n",
        "election.rename(columns={'code': 'code departement'}, inplace=True)\n",
        "election['code departement'] = election['code departement'].astype(str)\n",
        "\n",
        "# Fusion des bases de données\n",
        "def merge_data(dfs, on='code departement'):\n",
        "    from functools import reduce\n",
        "    return reduce(lambda left, right: pd.merge(left, right, on=on), dfs)\n",
        "\n",
        "database = merge_data([election, education, sante])\n",
        "database.dropna(inplace=True)\n",
        "\n",
        "# Séparation des données en caractéristiques (X) et cible (y)\n",
        "y = database.pop(\"Nom\")\n",
        "X = database"
      ]
    },
    {
      "cell_type": "code",
      "execution_count": 26,
      "metadata": {
        "colab": {
          "base_uri": "https://localhost:8080/"
        },
        "id": "xqET9LUuepeU",
        "outputId": "92c8d7e5-5698-4137-86d7-0f3c7aac3611"
      },
      "outputs": [
        {
          "output_type": "stream",
          "name": "stdout",
          "text": [
            "Nombre de lignes et de colonnes après fusion des données : (5797932, 22)\n",
            "Premières lignes du DataFrame fusionné :\n",
            "    % Abs/Ins  Votants  % Vot/Ins  Blancs  % Blancs/Ins  % Blancs/Vot  Nuls  \\\n",
            "0      10.34     1058      89.66      17          1.44          1.61     6   \n",
            "1      10.34     1058      89.66      17          1.44          1.61     6   \n",
            "2      10.34     1058      89.66      17          1.44          1.61     6   \n",
            "3      10.34     1058      89.66      17          1.44          1.61     6   \n",
            "4      10.34     1058      89.66      17          1.44          1.61     6   \n",
            "\n",
            "   % Nuls/Ins  % Nuls/Vot  Exprimés  ...      Nom  code departement EC_MAT  \\\n",
            "0        0.51        0.57      1035  ...  ARTHAUD                41      5   \n",
            "1        0.51        0.57      1035  ...  ARTHAUD                41      5   \n",
            "2        0.51        0.57      1035  ...  ARTHAUD                41      5   \n",
            "3        0.51        0.57      1035  ...  ARTHAUD                41      5   \n",
            "4        0.51        0.57      1035  ...  ARTHAUD                41      5   \n",
            "\n",
            "  EC_ELEM  COLL  LYC  CFA      C  C_C2SNP  C_C2SP  \n",
            "0       7     3    2    0  13962     1483     300  \n",
            "1       7     3    2    0  14070     1436     353  \n",
            "2       7     3    2    0  16705     2099     405  \n",
            "3       7     3    2    0  16990     2072     403  \n",
            "4       7     3    2    0  44610     8048    2234  \n",
            "\n",
            "[5 rows x 22 columns]\n"
          ]
        }
      ],
      "source": [
        "# Fusion des bases de données\n",
        "def merge_data(dfs, on='code departement'):\n",
        "    from functools import reduce\n",
        "    merged_data = reduce(lambda left, right: pd.merge(left, right, on=on), dfs)\n",
        "    print(\"Nombre de lignes et de colonnes après fusion des données :\", merged_data.shape)\n",
        "    print(\"Premières lignes du DataFrame fusionné :\\n\", merged_data.head())  # Affiche les premières lignes\n",
        "    return merged_data\n",
        "\n",
        "database = merge_data([election, education, sante])\n"
      ]
    },
    {
      "cell_type": "code",
      "execution_count": 6,
      "metadata": {
        "id": "aR2h_bZufZyS",
        "colab": {
          "base_uri": "https://localhost:8080/",
          "height": 17
        },
        "outputId": "4dac7cc2-2792-45c3-f68f-f73af000c6f8"
      },
      "outputs": [
        {
          "output_type": "display_data",
          "data": {
            "text/plain": [
              "<IPython.core.display.Javascript object>"
            ],
            "application/javascript": [
              "\n",
              "    async function download(id, filename, size) {\n",
              "      if (!google.colab.kernel.accessAllowed) {\n",
              "        return;\n",
              "      }\n",
              "      const div = document.createElement('div');\n",
              "      const label = document.createElement('label');\n",
              "      label.textContent = `Downloading \"${filename}\": `;\n",
              "      div.appendChild(label);\n",
              "      const progress = document.createElement('progress');\n",
              "      progress.max = size;\n",
              "      div.appendChild(progress);\n",
              "      document.body.appendChild(div);\n",
              "\n",
              "      const buffers = [];\n",
              "      let downloaded = 0;\n",
              "\n",
              "      const channel = await google.colab.kernel.comms.open(id);\n",
              "      // Send a message to notify the kernel that we're ready.\n",
              "      channel.send({})\n",
              "\n",
              "      for await (const message of channel.messages) {\n",
              "        // Send a message to notify the kernel that we're ready.\n",
              "        channel.send({})\n",
              "        if (message.buffers) {\n",
              "          for (const buffer of message.buffers) {\n",
              "            buffers.push(buffer);\n",
              "            downloaded += buffer.byteLength;\n",
              "            progress.value = downloaded;\n",
              "          }\n",
              "        }\n",
              "      }\n",
              "      const blob = new Blob(buffers, {type: 'application/binary'});\n",
              "      const a = document.createElement('a');\n",
              "      a.href = window.URL.createObjectURL(blob);\n",
              "      a.download = filename;\n",
              "      div.appendChild(a);\n",
              "      a.click();\n",
              "      div.remove();\n",
              "    }\n",
              "  "
            ]
          },
          "metadata": {}
        },
        {
          "output_type": "display_data",
          "data": {
            "text/plain": [
              "<IPython.core.display.Javascript object>"
            ],
            "application/javascript": [
              "download(\"download_c64702b0-c691-453c-827e-ab1e32f3ac76\", \"database_fusion.csv\", 579271324)"
            ]
          },
          "metadata": {}
        }
      ],
      "source": [
        "# Sauvegarde du DataFrame fusionné en CSV\n",
        "database.to_csv('/content/database_fusion.csv', index=False)\n",
        "\n",
        "# Téléchargement du fichier CSV\n",
        "from google.colab import files\n",
        "files.download('/content/database_fusion.csv')\n"
      ]
    },
    {
      "cell_type": "code",
      "execution_count": 27,
      "metadata": {
        "id": "8ZbqldVBIj4s"
      },
      "outputs": [],
      "source": [
        "from sklearn.preprocessing import LabelEncoder, MinMaxScaler\n",
        "#convertir les étiquettes catégorielles en valeurs numériques\n",
        "# Encodage de la cible\n",
        "le = LabelEncoder()\n",
        "y_encoded = le.fit_transform(y)\n",
        "\n",
        "#pour ameliorer la convergence et le modèle\n",
        "# Normalisation des données\n",
        "scaler = MinMaxScaler()\n",
        "X_normalized = scaler.fit_transform(X)\n"
      ]
    },
    {
      "cell_type": "code",
      "execution_count": 28,
      "metadata": {
        "id": "IT3MTxdDIye2"
      },
      "outputs": [],
      "source": [
        "from sklearn.model_selection import train_test_split\n",
        "\n",
        "# Division des données en ensembles d'entraînement et de test\n",
        "X_train, X_test, y_train, y_test = train_test_split(X_normalized, y_encoded, test_size=0.2, random_state=42)\n"
      ]
    },
    {
      "cell_type": "code",
      "execution_count": 9,
      "metadata": {
        "colab": {
          "base_uri": "https://localhost:8080/"
        },
        "id": "0vGAXP5ear7i",
        "outputId": "23b6331d-893a-4031-d97f-53f6b0781f8e"
      },
      "outputs": [
        {
          "output_type": "stream",
          "name": "stderr",
          "text": [
            "/usr/local/lib/python3.10/dist-packages/sklearn/linear_model/_logistic.py:458: ConvergenceWarning: lbfgs failed to converge (status=1):\n",
            "STOP: TOTAL NO. of ITERATIONS REACHED LIMIT.\n",
            "\n",
            "Increase the number of iterations (max_iter) or scale the data as shown in:\n",
            "    https://scikit-learn.org/stable/modules/preprocessing.html\n",
            "Please also refer to the documentation for alternative solver options:\n",
            "    https://scikit-learn.org/stable/modules/linear_model.html#logistic-regression\n",
            "  n_iter_i = _check_optimize_result(\n"
          ]
        },
        {
          "output_type": "stream",
          "name": "stdout",
          "text": [
            "Accuracy Logistic Regression: 90.37%\n"
          ]
        },
        {
          "output_type": "stream",
          "name": "stderr",
          "text": [
            "/usr/local/lib/python3.10/dist-packages/sklearn/metrics/_classification.py:1344: UndefinedMetricWarning: Precision and F-score are ill-defined and being set to 0.0 in labels with no predicted samples. Use `zero_division` parameter to control this behavior.\n",
            "  _warn_prf(average, modifier, msg_start, len(result))\n",
            "/usr/local/lib/python3.10/dist-packages/sklearn/metrics/_classification.py:1344: UndefinedMetricWarning: Precision and F-score are ill-defined and being set to 0.0 in labels with no predicted samples. Use `zero_division` parameter to control this behavior.\n",
            "  _warn_prf(average, modifier, msg_start, len(result))\n"
          ]
        },
        {
          "output_type": "stream",
          "name": "stdout",
          "text": [
            "              precision    recall  f1-score   support\n",
            "\n",
            "           0       0.93      0.91      0.92    125815\n",
            "           1       0.92      0.96      0.94    372029\n",
            "           2       0.94      0.97      0.96    267402\n",
            "           3       0.91      0.61      0.73     41762\n",
            "           4       0.95      0.96      0.96     21328\n",
            "           5       0.81      0.69      0.75     61466\n",
            "           6       1.00      0.99      0.99     27263\n",
            "           7       0.00      0.00      0.00      4775\n",
            "           8       0.83      0.88      0.86     70245\n",
            "           9       0.83      0.86      0.84    160536\n",
            "          10       0.00      0.00      0.00      6966\n",
            "\n",
            "    accuracy                           0.90   1159587\n",
            "   macro avg       0.74      0.71      0.72   1159587\n",
            "weighted avg       0.89      0.90      0.90   1159587\n",
            "\n"
          ]
        },
        {
          "output_type": "stream",
          "name": "stderr",
          "text": [
            "/usr/local/lib/python3.10/dist-packages/sklearn/metrics/_classification.py:1344: UndefinedMetricWarning: Precision and F-score are ill-defined and being set to 0.0 in labels with no predicted samples. Use `zero_division` parameter to control this behavior.\n",
            "  _warn_prf(average, modifier, msg_start, len(result))\n"
          ]
        }
      ],
      "source": [
        "from sklearn.linear_model import LogisticRegression\n",
        "from sklearn.metrics import classification_report, accuracy_score\n",
        "\n",
        "# Modèle de Régression Logistique\n",
        "logreg = LogisticRegression(multi_class='multinomial', solver='lbfgs')\n",
        "logreg.fit(X_train, y_train)\n",
        "y_pred_logreg = logreg.predict(X_test)\n",
        "\n",
        "# Évaluation du modèle\n",
        "print(\"Accuracy Logistic Regression: {:.2f}%\".format(accuracy_score(y_test, y_pred_logreg) * 100))\n",
        "print(classification_report(y_test, y_pred_logreg))\n",
        ""
      ]
    },
    {
      "cell_type": "code",
      "source": [
        "from sklearn.ensemble import RandomForestClassifier\n",
        "\n",
        "# Modèle Random Forest\n",
        "rf_classifier = RandomForestClassifier(n_estimators=100, random_state=42)\n",
        "rf_classifier.fit(X_train, y_train)\n",
        "y_pred_rf = rf_classifier.predict(X_test)\n",
        "\n",
        "# Évaluation du modèle\n",
        "print(\"Accuracy Random Forest: {:.2f}%\".format(accuracy_score(y_test, y_pred_rf) * 100))\n",
        "print(classification_report(y_test, y_pred_rf))\n"
      ],
      "metadata": {
        "id": "hEz9U7VfpbNm",
        "colab": {
          "base_uri": "https://localhost:8080/"
        },
        "outputId": "1f9ac234-42da-4ac8-b064-e29f07c3416b"
      },
      "execution_count": 10,
      "outputs": [
        {
          "output_type": "stream",
          "name": "stdout",
          "text": [
            "Accuracy Random Forest: 100.00%\n",
            "              precision    recall  f1-score   support\n",
            "\n",
            "           0       1.00      1.00      1.00    125815\n",
            "           1       1.00      1.00      1.00    372029\n",
            "           2       1.00      1.00      1.00    267402\n",
            "           3       1.00      1.00      1.00     41762\n",
            "           4       1.00      1.00      1.00     21328\n",
            "           5       1.00      1.00      1.00     61466\n",
            "           6       1.00      1.00      1.00     27263\n",
            "           7       1.00      1.00      1.00      4775\n",
            "           8       1.00      1.00      1.00     70245\n",
            "           9       1.00      1.00      1.00    160536\n",
            "          10       1.00      1.00      1.00      6966\n",
            "\n",
            "    accuracy                           1.00   1159587\n",
            "   macro avg       1.00      1.00      1.00   1159587\n",
            "weighted avg       1.00      1.00      1.00   1159587\n",
            "\n"
          ]
        }
      ]
    },
    {
      "cell_type": "code",
      "execution_count": 29,
      "metadata": {
        "colab": {
          "base_uri": "https://localhost:8080/",
          "height": 1000
        },
        "id": "oOjlyA6LMhMG",
        "outputId": "2467a155-47dd-4e6e-8f58-b12e5c606e32"
      },
      "outputs": [
        {
          "output_type": "stream",
          "name": "stdout",
          "text": [
            "Epoch 1/20\n",
            "36238/36238 [==============================] - 129s 3ms/step - loss: 0.0389 - accuracy: 0.9895 - val_loss: 3.0419e-04 - val_accuracy: 1.0000\n",
            "Epoch 2/20\n",
            "36238/36238 [==============================] - 128s 4ms/step - loss: 0.0071 - accuracy: 0.9978 - val_loss: 9.3566e-05 - val_accuracy: 1.0000\n",
            "Epoch 3/20\n",
            "36238/36238 [==============================] - 130s 4ms/step - loss: 0.0057 - accuracy: 0.9982 - val_loss: 1.0788e-04 - val_accuracy: 1.0000\n",
            "Epoch 4/20\n",
            "36238/36238 [==============================] - 130s 4ms/step - loss: 0.0050 - accuracy: 0.9984 - val_loss: 1.0153e-04 - val_accuracy: 1.0000\n",
            "Epoch 5/20\n",
            "36238/36238 [==============================] - 129s 4ms/step - loss: 0.0046 - accuracy: 0.9986 - val_loss: 1.5171e-05 - val_accuracy: 1.0000\n",
            "Epoch 6/20\n",
            "36238/36238 [==============================] - 136s 4ms/step - loss: 0.0042 - accuracy: 0.9987 - val_loss: 4.5468e-05 - val_accuracy: 1.0000\n",
            "Epoch 7/20\n",
            "36238/36238 [==============================] - 129s 4ms/step - loss: 0.0041 - accuracy: 0.9987 - val_loss: 4.9911e-06 - val_accuracy: 1.0000\n",
            "Epoch 8/20\n",
            "36238/36238 [==============================] - 132s 4ms/step - loss: 0.0039 - accuracy: 0.9988 - val_loss: 2.0574e-06 - val_accuracy: 1.0000\n",
            "Epoch 9/20\n",
            "36238/36238 [==============================] - 132s 4ms/step - loss: 0.0038 - accuracy: 0.9988 - val_loss: 1.2877e-06 - val_accuracy: 1.0000\n",
            "Epoch 10/20\n",
            "36238/36238 [==============================] - 128s 4ms/step - loss: 0.0036 - accuracy: 0.9989 - val_loss: 9.9395e-07 - val_accuracy: 1.0000\n",
            "Epoch 11/20\n",
            "36238/36238 [==============================] - 129s 4ms/step - loss: 0.0036 - accuracy: 0.9989 - val_loss: 3.3009e-06 - val_accuracy: 1.0000\n",
            "Epoch 12/20\n",
            "36238/36238 [==============================] - 130s 4ms/step - loss: 0.0035 - accuracy: 0.9989 - val_loss: 3.1204e-06 - val_accuracy: 1.0000\n",
            "Epoch 13/20\n",
            "36238/36238 [==============================] - 126s 3ms/step - loss: 0.0034 - accuracy: 0.9990 - val_loss: 3.7805e-06 - val_accuracy: 1.0000\n",
            "Epoch 14/20\n",
            "36238/36238 [==============================] - 139s 4ms/step - loss: 0.0033 - accuracy: 0.9990 - val_loss: 4.1731e-06 - val_accuracy: 1.0000\n",
            "Epoch 15/20\n",
            "36238/36238 [==============================] - 174s 5ms/step - loss: 0.0032 - accuracy: 0.9990 - val_loss: 3.5415e-06 - val_accuracy: 1.0000\n",
            "Epoch 16/20\n",
            "36238/36238 [==============================] - 169s 5ms/step - loss: 0.0033 - accuracy: 0.9990 - val_loss: 8.4951e-06 - val_accuracy: 1.0000\n",
            "Epoch 17/20\n",
            "36238/36238 [==============================] - 169s 5ms/step - loss: 0.0032 - accuracy: 0.9990 - val_loss: 1.4647e-06 - val_accuracy: 1.0000\n",
            "Epoch 18/20\n",
            "36238/36238 [==============================] - 168s 5ms/step - loss: 0.0032 - accuracy: 0.9990 - val_loss: 1.4282e-06 - val_accuracy: 1.0000\n",
            "Epoch 19/20\n",
            "36238/36238 [==============================] - 172s 5ms/step - loss: 0.0031 - accuracy: 0.9990 - val_loss: 2.8167e-06 - val_accuracy: 1.0000\n",
            "Epoch 20/20\n",
            "36238/36238 [==============================] - 169s 5ms/step - loss: 0.0030 - accuracy: 0.9991 - val_loss: 4.8535e-07 - val_accuracy: 1.0000\n",
            "36238/36238 [==============================] - 82s 2ms/step - loss: 4.8535e-07 - accuracy: 1.0000\n",
            "Accuracy MLP: 100.00%\n"
          ]
        },
        {
          "output_type": "display_data",
          "data": {
            "text/plain": [
              "<Figure size 640x480 with 1 Axes>"
            ],
            "image/png": "[encoded data removed]"
          },
          "metadata": {}
        },
        {
          "output_type": "display_data",
          "data": {
            "text/plain": [
              "<Figure size 640x480 with 1 Axes>"
            ],
            "image/png": "[encoded data removed]"
          },
          "metadata": {}
        }
      ],
      "source": [
        "import numpy as np\n",
        "from keras.models import Sequential\n",
        "from keras.layers import Dense, Dropout\n",
        "from keras.utils import to_categorical\n",
        "import matplotlib.pyplot as plt\n",
        "\n",
        "# Conversion des étiquettes en vecteurs binaires catégoriques\n",
        "y_train_categorical = to_categorical(y_train)\n",
        "y_test_categorical = to_categorical(y_test)\n",
        "\n",
        "# Création du modèle MLP\n",
        "model = Sequential()\n",
        "model.add(Dense(100, activation='tanh', input_shape=(X.shape[1],)))\n",
        "model.add(Dropout(0.5))\n",
        "model.add(Dense(100, activation='tanh'))\n",
        "model.add(Dropout(0.5))\n",
        "model.add(Dense(100, activation='tanh'))\n",
        "model.add(Dense(len(np.unique(y_encoded)), activation='softmax'))\n",
        "\n",
        "# Compilation du modèle\n",
        "model.compile(optimizer='adam', loss='categorical_crossentropy', metrics=['accuracy'])\n",
        "\n",
        "# Entraînement du modèle\n",
        "history = model.fit(X_train, y_train_categorical, epochs=20, batch_size=128, validation_data=(X_test, y_test_categorical))\n",
        "\n",
        "# Évaluation du modèle\n",
        "loss, accuracy_mlp = model.evaluate(X_test, y_test_categorical)\n",
        "print(\"Accuracy MLP: {:.2f}%\".format(accuracy_mlp * 100))\n",
        "\n",
        "# Visualisation des courbes de perte et de précision\n",
        "plt.plot(history.history['loss'], label='Train')\n",
        "plt.plot(history.history['val_loss'], label='Validation')\n",
        "plt.xlabel('Epoch')\n",
        "plt.ylabel('Loss')\n",
        "plt.legend()\n",
        "plt.title('Courbes de perte')\n",
        "plt.show()\n",
        "\n",
        "plt.plot(history.history['accuracy'], label='Train')\n",
        "plt.plot(history.history['val_accuracy'], label='Validation')\n",
        "plt.xlabel('Epoch')\n",
        "plt.ylabel('Accuracy')\n",
        "plt.legend()\n",
        "plt.title('Courbes de précision')\n",
        "plt.show()\n"
      ]
    },
    {
      "cell_type": "code",
      "source": [
        "# Filtrer les données pour ne garder que celles du département 95\n",
        "database_95 = database[database['code departement'] == '95']\n",
        "\n",
        "# Sauvegarder le DataFrame filtré en CSV\n",
        "database_95.to_csv('/content/database_95.csv', index=False)\n",
        "\n",
        "# Télécharger le fichier CSV\n",
        "from google.colab import files\n",
        "files.download('/content/database_95.csv')\n"
      ],
      "metadata": {
        "colab": {
          "base_uri": "https://localhost:8080/",
          "height": 17
        },
        "id": "M3mkn2bPedWL",
        "outputId": "746fd0a3-b240-42db-c8b9-4e187ab61610"
      },
      "execution_count": null,
      "outputs": [
        {
          "output_type": "display_data",
          "data": {
            "text/plain": [
              "<IPython.core.display.Javascript object>"
            ],
            "application/javascript": [
              "\n",
              "    async function download(id, filename, size) {\n",
              "      if (!google.colab.kernel.accessAllowed) {\n",
              "        return;\n",
              "      }\n",
              "      const div = document.createElement('div');\n",
              "      const label = document.createElement('label');\n",
              "      label.textContent = `Downloading \"${filename}\": `;\n",
              "      div.appendChild(label);\n",
              "      const progress = document.createElement('progress');\n",
              "      progress.max = size;\n",
              "      div.appendChild(progress);\n",
              "      document.body.appendChild(div);\n",
              "\n",
              "      const buffers = [];\n",
              "      let downloaded = 0;\n",
              "\n",
              "      const channel = await google.colab.kernel.comms.open(id);\n",
              "      // Send a message to notify the kernel that we're ready.\n",
              "      channel.send({})\n",
              "\n",
              "      for await (const message of channel.messages) {\n",
              "        // Send a message to notify the kernel that we're ready.\n",
              "        channel.send({})\n",
              "        if (message.buffers) {\n",
              "          for (const buffer of message.buffers) {\n",
              "            buffers.push(buffer);\n",
              "            downloaded += buffer.byteLength;\n",
              "            progress.value = downloaded;\n",
              "          }\n",
              "        }\n",
              "      }\n",
              "      const blob = new Blob(buffers, {type: 'application/binary'});\n",
              "      const a = document.createElement('a');\n",
              "      a.href = window.URL.createObjectURL(blob);\n",
              "      a.download = filename;\n",
              "      div.appendChild(a);\n",
              "      a.click();\n",
              "      div.remove();\n",
              "    }\n",
              "  "
            ]
          },
          "metadata": {}
        },
        {
          "output_type": "display_data",
          "data": {
            "text/plain": [
              "<IPython.core.display.Javascript object>"
            ],
            "application/javascript": [
              "download(\"download_bda09f98-72c2-47c8-a9d7-e776aac2fe80\", \"database_95.csv\", 24184036)"
            ]
          },
          "metadata": {}
        }
      ]
    },
    {
      "cell_type": "code",
      "source": [],
      "metadata": {
        "id": "UvWgGF0Vo6rt"
      },
      "execution_count": null,
      "outputs": []
    },
    {
      "cell_type": "code",
      "source": [
        "import pandas as pd\n",
        "from google.colab import files\n",
        "\n",
        "# Charger le fichier Excel\n",
        "file_path_95 = \"/content/drive/MyDrive/Donnees/Presidentielle_2017_Resultats_Tour_1.xls\"\n",
        "df = pd.read_excel(file_path_95)\n",
        "\n",
        "# Vérifier les valeurs uniques dans la colonne \"Code du département\"\n",
        "print(\"Valeurs uniques dans la colonne 'Code du département' :\")\n",
        "print(df['Code du département'].unique())\n",
        "\n",
        "# S'assurer que la colonne \"Code du département\" est traitée comme des chaînes de caractères\n",
        "df['Code du département'] = df['Code du département'].astype(str)\n",
        "\n",
        "# Filtrer sur le département 95\n",
        "df_filtered = df[df['Code du département'] == '95']\n",
        "\n",
        "# Vérifier si le filtrage a fonctionné\n",
        "print(\"\\nAperçu des données filtrées :\")\n",
        "print(df_filtered)\n",
        "\n",
        "# Sauvegarder en CSV seulement si les données filtrées ne sont pas vides\n",
        "if not df_filtered.empty:\n",
        "    csv_file_path = 'departement_95.csv'\n",
        "    df_filtered.to_csv(csv_file_path, index=False)\n",
        "\n",
        "    # Télécharger le fichier CSV\n",
        "    files.download(csv_file_path)\n",
        "else:\n",
        "    print(\"Aucune donnée trouvée pour le département 95.\")\n"
      ],
      "metadata": {
        "colab": {
          "base_uri": "https://localhost:8080/",
          "height": 381
        },
        "id": "Rhz6nhUJH-nw",
        "outputId": "7a7563c9-c5f0-4ef6-edb6-479a525792b2"
      },
      "execution_count": 19,
      "outputs": [
        {
          "output_type": "stream",
          "name": "stdout",
          "text": [
            "Valeurs uniques dans la colonne 'Code du département' :\n",
            "[1 2 3 4 5 6 7 8 9 10 11 12 13 14 15 16 17 18 19 '2A' '2B' 21 22 23 24 25\n",
            " 26 27 28 29 30 31 32 33 34 35 36 37 38 39 40 41 42 43 44 45 46 47 48 49\n",
            " 50 51 52 53 54 55 56 57 58 59 60 61 62 63 64 65 66 67 68 69 70 71 72 73\n",
            " 74 75 76 77 78 79 80 81 82 83 84 85 86 87 88 89 90 91 92 93 94 95 'ZA'\n",
            " 'ZB' 'ZC' 'ZD' 'ZM' 'ZN' 'ZP' 'ZS' 'ZW' 'ZX']\n",
            "\n",
            "Aperçu des données filtrées :\n",
            "   Code du département Libellé du département  Inscrits  Abstentions  \\\n",
            "95                  95             Val-d'Oise    730497       167560   \n",
            "\n",
            "    % Abs/Ins  Votants  % Vot/Ins  Blancs  % Blancs/Ins  % Blancs/Vot  ...  \\\n",
            "95      22.94   562937      77.06   10090          1.38          1.79  ...   \n",
            "\n",
            "    Prénom.9  Voix.9  % Voix/Ins.9  % Voix/Exp.9  Sexe.10     Nom.10  \\\n",
            "95  Nathalie    2762          0.38           0.5        M  CHEMINADE   \n",
            "\n",
            "   Prénom.10 Voix.10 % Voix/Ins.10  % Voix/Exp.10  \n",
            "95   Jacques     979          0.13           0.18  \n",
            "\n",
            "[1 rows x 82 columns]\n"
          ]
        },
        {
          "output_type": "display_data",
          "data": {
            "text/plain": [
              "<IPython.core.display.Javascript object>"
            ],
            "application/javascript": [
              "\n",
              "    async function download(id, filename, size) {\n",
              "      if (!google.colab.kernel.accessAllowed) {\n",
              "        return;\n",
              "      }\n",
              "      const div = document.createElement('div');\n",
              "      const label = document.createElement('label');\n",
              "      label.textContent = `Downloading \"${filename}\": `;\n",
              "      div.appendChild(label);\n",
              "      const progress = document.createElement('progress');\n",
              "      progress.max = size;\n",
              "      div.appendChild(progress);\n",
              "      document.body.appendChild(div);\n",
              "\n",
              "      const buffers = [];\n",
              "      let downloaded = 0;\n",
              "\n",
              "      const channel = await google.colab.kernel.comms.open(id);\n",
              "      // Send a message to notify the kernel that we're ready.\n",
              "      channel.send({})\n",
              "\n",
              "      for await (const message of channel.messages) {\n",
              "        // Send a message to notify the kernel that we're ready.\n",
              "        channel.send({})\n",
              "        if (message.buffers) {\n",
              "          for (const buffer of message.buffers) {\n",
              "            buffers.push(buffer);\n",
              "            downloaded += buffer.byteLength;\n",
              "            progress.value = downloaded;\n",
              "          }\n",
              "        }\n",
              "      }\n",
              "      const blob = new Blob(buffers, {type: 'application/binary'});\n",
              "      const a = document.createElement('a');\n",
              "      a.href = window.URL.createObjectURL(blob);\n",
              "      a.download = filename;\n",
              "      div.appendChild(a);\n",
              "      a.click();\n",
              "      div.remove();\n",
              "    }\n",
              "  "
            ]
          },
          "metadata": {}
        },
        {
          "output_type": "display_data",
          "data": {
            "text/plain": [
              "<IPython.core.display.Javascript object>"
            ],
            "application/javascript": [
              "download(\"download_89c22e47-a6f4-42ab-ad18-b7073ee9d999\", \"departement_95.csv\", 1280)"
            ]
          },
          "metadata": {}
        }
      ]
    },
    {
      "cell_type": "code",
      "source": [
        "# Charger les données du département 95\n",
        "df_95 = pd.read_csv(\"/content/drive/MyDrive/Donnees/departement_95.csv\")\n",
        "\n",
        "# Supprimer les colonnes non nécessaires pour la prédiction, incluant les colonnes non numériques\n",
        "columns_to_drop = [\"Nom\", \"Libellé du département\"]\n",
        "X_95 = df_95.drop(columns=columns_to_drop)\n",
        "\n",
        "# Assurez-vous que toutes les colonnes restantes sont numériques\n",
        "X_95 = X_95.apply(pd.to_numeric, errors='coerce')\n",
        "\n",
        "# Remplacer les valeurs NaN résultantes par 0 (ou une autre valeur appropriée)\n",
        "X_95 = X_95.fillna(0)\n",
        "\n",
        "# Normalisation des données\n",
        "X_normalized_95 = scaler.transform(X_95)\n",
        "\n",
        "# Faire les prédictions avec le modèle sur les données normalisées du département 95\n",
        "predictions = model.predict(X_normalized_95)\n",
        "\n",
        "# Trouver l'indice du candidat gagnant pour chaque ligne de prédictions\n",
        "winner_indices = np.argmax(predictions, axis=1)\n",
        "\n",
        "# Calculer le candidat avec le plus grand nombre de votes prédits\n",
        "winner_counter = Counter(winner_indices)\n",
        "overall_winner_index = winner_counter.most_common(1)[0][0]\n",
        "\n",
        "\n",
        "# on peut alors obtenir le nom du candidat gagnant\n",
        "overall_winner_name = df_95.loc[overall_winner_index, 'Nom']\n",
        "\n",
        "print(\"Le candidat gagnant dans le département 95 est :\", overall_winner_name)\n"
      ],
      "metadata": {
        "colab": {
          "base_uri": "https://localhost:8080/"
        },
        "id": "aMP2wPqab0Fn",
        "outputId": "ca458b9c-7765-45fd-e229-a3e95bfa92e8"
      },
      "execution_count": 47,
      "outputs": [
        {
          "output_type": "stream",
          "name": "stdout",
          "text": [
            "1/1 [==============================] - 0s 40ms/step\n",
            "Le candidat gagnant dans le département 95 est : MACRON\n"
          ]
        }
      ]
    }
  ],
  "metadata": {
    "colab": {
      "provenance": []
    },
    "kernelspec": {
      "display_name": "Python 3",
      "name": "python3"
    },
    "language_info": {
      "name": "python"
    }
  },
  "nbformat": 4,
  "nbformat_minor": 0
}
